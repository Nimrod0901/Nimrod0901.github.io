{
 "cells": [
  {
   "cell_type": "markdown",
   "metadata": {},
   "source": [
    "# 第3章 K邻近法"
   ]
  },
  {
   "cell_type": "markdown",
   "metadata": {},
   "source": [
    "## K邻近算法\n",
    "三个基本要素：\n",
    "- 距离度量： 欧氏距离、曼哈顿距离等等\n",
    "- k值：一般取小，交叉验证来选择更适合的\n",
    "- 分类决策规则：往往选择多数表决"
   ]
  },
  {
   "cell_type": "markdown",
   "metadata": {},
   "source": [
    "$L_p$距离定义\n",
    "$$L_p(xi, xj) = (\\sum_{l=1}^n\\left |x_i^{(l)} - x_j^{(l)}\\right |^p)^\\frac{1}{p}$$\n",
    "$p \\geq 1$"
   ]
  },
  {
   "cell_type": "code",
   "execution_count": 108,
   "metadata": {},
   "outputs": [],
   "source": [
    "import numpy as np"
   ]
  },
  {
   "cell_type": "markdown",
   "metadata": {},
   "source": [
    "p=2,欧式距离(Euclidean distance)$$L_2(xi, xj) = (\\sum_{l=1}^n\\left |x_i^{(l)} - x_j^{(l)}\\right |^2)^\\frac{1}{2}$$"
   ]
  },
  {
   "cell_type": "code",
   "execution_count": 3,
   "metadata": {},
   "outputs": [],
   "source": [
    "# 欧几里得距离\n",
    "def euclideanDistance(x1, x2):\n",
    "    return np.sqrt(np.sum(np.square(x1-x2)))"
   ]
  },
  {
   "cell_type": "markdown",
   "metadata": {},
   "source": [
    "p=1,曼哈顿距离(Manhattan distance)$$L_1(xi, xj) = \\sum_{l=1}^n\\left |x_i^{(l)} - x_j^{(l)}\\right |$$"
   ]
  },
  {
   "cell_type": "code",
   "execution_count": 4,
   "metadata": {},
   "outputs": [],
   "source": [
    "def manhattanDistance(x1, x2):\n",
    "    return np.sum(np.abs(x1-x2))"
   ]
  },
  {
   "cell_type": "code",
   "execution_count": 109,
   "metadata": {},
   "outputs": [],
   "source": [
    "def loadData():\n",
    "    import tensorflow as tf\n",
    "    mnist = tf.keras.datasets.mnist\n",
    "    (X_train, y_train),(X_test, y_test) = mnist.load_data()\n",
    "    X_train[X_train >= 127] = 1\n",
    "    X_train[X_train < 127] = 0\n",
    "    X_test[X_test >= 127] = 1\n",
    "    X_test[X_test < 127] = 0\n",
    "    # X_train, X_test = X_train / 255.0, X_test / 255.0 # 标准化\n",
    "    X_train = X_train.reshape(X_train.shape[0], X_train.size // X_train.shape[0])\n",
    "    X_test = X_test.reshape(X_test.shape[0], X_test.size // X_test.shape[0])\n",
    "    return X_train, X_test, y_train, y_test"
   ]
  },
  {
   "cell_type": "code",
   "execution_count": 117,
   "metadata": {},
   "outputs": [],
   "source": [
    "def kNearestNeighbor(X_train, y_train, vec, k=1, kind='eu'):\n",
    "    \"\"\"\n",
    "    Parameters:\n",
    "        X_train: 训练数据集\n",
    "        y_train: 训练标签集\n",
    "        vec: 用于预测的数据\n",
    "        k: K值\n",
    "    Returns:\n",
    "        预测标签\n",
    "    \"\"\"\n",
    "    trainSize = X_train.shape[0]\n",
    "    cls_cnt = {}  # 用来判断测试数据属于哪个分类\n",
    "    if kind == 'eu':\n",
    "        # 欧式距离\n",
    "        dist = np.apply_along_axis(euclideanDistance, 1, X_train, vec)  # 这个函数帮助我们再每行应用计算距离 \n",
    "    if kind == 'ma':\n",
    "        # 曼哈顿距离\n",
    "        dist = np.apply_along_axis(manhattanDistance, 1, X_train, vec)  # 这个函数帮助我们再每行应用计算距离\n",
    "        \n",
    "    for el in dist.argsort()[:k]:\n",
    "        cls_cnt[y_train[el]] = cls_cnt[y_train[el]] + 1 if y_train[el] in cls_cnt else 1\n",
    "    return max(cls_cnt)"
   ]
  },
  {
   "cell_type": "code",
   "execution_count": 114,
   "metadata": {},
   "outputs": [
    {
     "name": "stdout",
     "output_type": "stream",
     "text": [
      "Testing the 0 data\n",
      "Testing the 1 data\n",
      "Testing the 2 data\n",
      "Testing the 3 data\n",
      "Testing the 4 data\n",
      "Testing the 5 data\n",
      "Testing the 6 data\n",
      "Testing the 7 data\n",
      "Testing the 8 data\n",
      "Testing the 9 data\n",
      "Testing the 10 data\n",
      "Testing the 11 data\n",
      "Testing the 12 data\n",
      "Testing the 13 data\n",
      "Testing the 14 data\n",
      "Testing the 15 data\n",
      "Testing the 16 data\n",
      "Testing the 17 data\n",
      "Testing the 18 data\n",
      "Testing the 19 data\n",
      "1.0\n"
     ]
    }
   ],
   "source": [
    "err = 0\n",
    "testSize = 20\n",
    "for i in range(testSize):\n",
    "    print('Testing the {} data'.format(i))\n",
    "    test_vec = X_test[i]\n",
    "    pred = kNearestNeighbor(X_train, y_train, test_vec, 3, kind='eu')\n",
    "    if pred != y_test[i]:\n",
    "        err += 1\n",
    "        print(err)\n",
    "acc = 1 - err / testSize\n",
    "print(acc)"
   ]
  },
  {
   "cell_type": "code",
   "execution_count": 94,
   "metadata": {},
   "outputs": [],
   "source": [
    "X_train, X_test, y_train, y_test = loadData()"
   ]
  },
  {
   "cell_type": "code",
   "execution_count": 107,
   "metadata": {},
   "outputs": [
    {
     "data": {
      "text/plain": [
       "(10000, 784)"
      ]
     },
     "execution_count": 107,
     "metadata": {},
     "output_type": "execute_result"
    }
   ],
   "source": [
    "X_test.shape"
   ]
  },
  {
   "cell_type": "code",
   "execution_count": 118,
   "metadata": {},
   "outputs": [
    {
     "name": "stdout",
     "output_type": "stream",
     "text": [
      " "
     ]
    }
   ],
   "source": [
    "test_vec = X_test[0]\n",
    "%prun kNearestNeighbor(X_train, y_train, test_vec, 5, kind='eu')"
   ]
  },
  {
   "cell_type": "code",
   "execution_count": 88,
   "metadata": {},
   "outputs": [],
   "source": [
    "dist = np.apply_along_axis(euclideanDistance, 1, X_train, test_vec)"
   ]
  },
  {
   "cell_type": "code",
   "execution_count": 89,
   "metadata": {},
   "outputs": [
    {
     "data": {
      "text/plain": [
       "array([53843, 38620, 16186, ..., 25321, 59439, 41358])"
      ]
     },
     "execution_count": 89,
     "metadata": {},
     "output_type": "execute_result"
    }
   ],
   "source": [
    "dist.argsort()"
   ]
  },
  {
   "cell_type": "code",
   "execution_count": 90,
   "metadata": {},
   "outputs": [
    {
     "data": {
      "text/plain": [
       "array([ 9.39527723, 10.39462864,  9.4404245 , ...,  9.46745777,\n",
       "        9.53388582,  9.22310757])"
      ]
     },
     "execution_count": 90,
     "metadata": {},
     "output_type": "execute_result"
    }
   ],
   "source": []
  },
  {
   "cell_type": "code",
   "execution_count": 70,
   "metadata": {},
   "outputs": [
    {
     "data": {
      "text/plain": [
       "array([ 9.39527723, 10.39462864])"
      ]
     },
     "execution_count": 70,
     "metadata": {},
     "output_type": "execute_result"
    }
   ],
   "source": [
    "for el in dist"
   ]
  },
  {
   "cell_type": "code",
   "execution_count": null,
   "metadata": {},
   "outputs": [],
   "source": []
  }
 ],
 "metadata": {
  "kernelspec": {
   "display_name": "Python 3",
   "language": "python",
   "name": "python3"
  },
  "language_info": {
   "codemirror_mode": {
    "name": "ipython",
    "version": 3
   },
   "file_extension": ".py",
   "mimetype": "text/x-python",
   "name": "python",
   "nbconvert_exporter": "python",
   "pygments_lexer": "ipython3",
   "version": "3.6.5"
  }
 },
 "nbformat": 4,
 "nbformat_minor": 2
}
